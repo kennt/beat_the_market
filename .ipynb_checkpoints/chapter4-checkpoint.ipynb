{
 "metadata": {
  "name": "",
  "signature": "sha256:c2ff454ee7cfd6e965361b18be078eb190b78d118edb3f534c48df6f01866d55"
 },
 "nbformat": 3,
 "nbformat_minor": 0,
 "worksheets": [
  {
   "cells": [
    {
     "cell_type": "heading",
     "level": 1,
     "metadata": {},
     "source": [
      "Chapter 4: The Basic System"
     ]
    },
    {
     "cell_type": "markdown",
     "metadata": {},
     "source": [
      "Trading warrants can generate vast profits but are accompanied by great risks.  The answer is to combine two or more risky investments to \"nearly cancel out\" the risk and retain the profit.  This is known as **hedging**."
     ]
    },
    {
     "cell_type": "heading",
     "level": 3,
     "metadata": {},
     "source": [
      "Hedging: High Profit and Low Risk"
     ]
    },
    {
     "cell_type": "markdown",
     "metadata": {},
     "source": [
      "This basic system has also been known as the *warrant hedge*."
     ]
    },
    {
     "cell_type": "markdown",
     "metadata": {},
     "source": [
      "Let's calculate the potential profits/losses by looking at an example:  Assume that we have a company, XYZ. Company XYZ has warrants that allow the purchase of one share of XYZ common at any time in the next 18 months.  Currently, the common is priced at 6 while the warrant price is 3."
     ]
    },
    {
     "cell_type": "markdown",
     "metadata": {},
     "source": [
      "Now, we sell short 100 XYZ warrants, at an exercise price of 10, and buy 100 XYZ common stock.  The idea is to liquidate both positions just before the warrant expires."
     ]
    },
    {
     "cell_type": "markdown",
     "metadata": {},
     "source": [
      "Note that it is possible to merge the two calculations below into a single equation.  But I think it's instructive to look at the two separately."
     ]
    },
    {
     "cell_type": "code",
     "collapsed": false,
     "input": [
      "def warrant_net(warrant_price, exercise_price, ending_price):\n",
      "    if ending_price <= exercise_price:\n",
      "        return warrant_price\n",
      "    return -(ending_price - exercise_price - warrant_price)\n",
      "\n",
      "def common_net(common_price, ending_price):\n",
      "    return ending_price - common_price\n",
      "\n",
      "quantity = 100\n",
      "\n",
      "def net(warrant, exercise, common, ending_price):\n",
      "    return (warrant_net(warrant, exercise, ending_price), common_net(common, ending_price))"
     ],
     "language": "python",
     "metadata": {},
     "outputs": [],
     "prompt_number": 36
    },
    {
     "cell_type": "code",
     "collapsed": false,
     "input": [
      "warrant = 3\n",
      "exercise = 10\n",
      "common = 6\n",
      "\n",
      "for x in [20, 12, 8, 5, 2, 0]:\n",
      "    print 'common at {0} : warrant={1} common={2} total={3}'.format(x,\n",
      "        warrant_net(warrant, exercise, x), common_net(common, x),\n",
      "        warrant_net(warrant, exercise, x) + common_net(common, x))\n"
     ],
     "language": "python",
     "metadata": {},
     "outputs": [
      {
       "output_type": "stream",
       "stream": "stdout",
       "text": [
        "common at 20 : warrant=-7 common=14 total=7\n",
        "common at 12 : warrant=1 common=6 total=7\n",
        "common at 8 : warrant=3 common=2 total=5\n",
        "common at 5 : warrant=3 common=-1 total=2\n",
        "common at 2 : warrant=3 common=-4 total=-1\n",
        "common at 0 : warrant=3 common=-6 total=-3\n"
       ]
      }
     ],
     "prompt_number": 44
    },
    {
     "cell_type": "code",
     "collapsed": false,
     "input": [],
     "language": "python",
     "metadata": {},
     "outputs": []
    }
   ],
   "metadata": {}
  }
 ]
}