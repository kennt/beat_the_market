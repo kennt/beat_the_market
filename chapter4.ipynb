{
 "metadata": {
  "name": "",
  "signature": "sha256:d2ffcb5329e8cdd54424b58fe41f7f301efec45eca9f416a4a3e01923d703939"
 },
 "nbformat": 3,
 "nbformat_minor": 0,
 "worksheets": [
  {
   "cells": [
    {
     "cell_type": "heading",
     "level": 1,
     "metadata": {},
     "source": [
      "Chapter 4: The Basic System"
     ]
    },
    {
     "cell_type": "markdown",
     "metadata": {},
     "source": [
      "Trading warrants can generate vast profits but are accompanied by great risks.  The answer is to combine two or more risky investments to \"nearly cancel out\" the risk and retain the profit.  This is known as **hedging**."
     ]
    },
    {
     "cell_type": "heading",
     "level": 3,
     "metadata": {},
     "source": [
      "Hedging: High Profit and Low Risk"
     ]
    },
    {
     "cell_type": "markdown",
     "metadata": {},
     "source": [
      "This basic system has also been known as the *warrant hedge*."
     ]
    },
    {
     "cell_type": "markdown",
     "metadata": {},
     "source": [
      "Let's calculate the potential profits/losses by looking at an example:  Assume that we have a company, XYZ. Company XYZ has warrants that allow the purchase of one share of XYZ common at any time in the next 18 months.  Currently, the common is priced at 6 while the warrant price is 3."
     ]
    },
    {
     "cell_type": "markdown",
     "metadata": {},
     "source": [
      "Now, we sell short 100 XYZ warrants, at an exercise price of 10, and buy 100 XYZ common stock.  The idea is to liquidate both positions just before the warrant expires."
     ]
    },
    {
     "cell_type": "markdown",
     "metadata": {},
     "source": [
      "Note that it is possible to merge the two calculations below into a single equation.  But this will become more important down below when we are not doing 1-1 warrant/stock purchases."
     ]
    },
    {
     "cell_type": "code",
     "collapsed": false,
     "input": [
      "def warrant_net(warrant_price, exercise_price, ending_price):\n",
      "    if ending_price <= exercise_price:\n",
      "        return warrant_price\n",
      "    return -(ending_price - exercise_price - warrant_price)\n",
      "\n",
      "def common_net(common_price, ending_price):\n",
      "    return ending_price - common_price\n",
      "\n",
      "quantity = 100\n",
      "\n",
      "def net(warrant, exercise, common, ending_price):\n",
      "    return (warrant_net(warrant, exercise, ending_price), common_net(common, ending_price))"
     ],
     "language": "python",
     "metadata": {},
     "outputs": [],
     "prompt_number": 2
    },
    {
     "cell_type": "code",
     "collapsed": false,
     "input": [
      "from IPython.display import HTML\n",
      "\n",
      "\n",
      "warrant = 3\n",
      "exercise = 10\n",
      "common = 6\n",
      "\n",
      "def to_html():\n",
      "    html = \"\"\"\n",
      "        <table>\n",
      "        <tr>\n",
      "            <th>Common price</th>\n",
      "            <th>Warrant profit</th>\n",
      "            <th>Common stock profit</th>\n",
      "            <th>Total profit, 1 to 1</th>\n",
      "            </tr>\n",
      "            \"\"\"\n",
      "        \n",
      "    for x in [20, 12, 10, 8, 7, 6, 5, 4, 3, 2, 0]:            \n",
      "        html += \"\"\"<tr>\n",
      "            <td>{0}</td>\n",
      "            <td>{1}</td>\n",
      "            <td>{2}</td>\n",
      "            <td>{3}</td>\n",
      "            </tr>\n",
      "            \"\"\".format(x,\n",
      "                       warrant_net(warrant, exercise, x),\n",
      "                       common_net(common, x),\n",
      "                       warrant_net(warrant, exercise, x) + common_net(common, x))\n",
      "    \n",
      "    html += \"</table>\"\n",
      "    return html\n",
      "\n",
      "HTML(to_html())\n"
     ],
     "language": "python",
     "metadata": {},
     "outputs": [
      {
       "html": [
        "\n",
        "        <table>\n",
        "        <tr>\n",
        "            <th>Common price</th>\n",
        "            <th>Warrant profit</th>\n",
        "            <th>Common stock profit</th>\n",
        "            <th>Total profit, 1 to 1</th>\n",
        "            </tr>\n",
        "            <tr>\n",
        "            <td>20</td>\n",
        "            <td>-7</td>\n",
        "            <td>14</td>\n",
        "            <td>7</td>\n",
        "            </tr>\n",
        "            <tr>\n",
        "            <td>12</td>\n",
        "            <td>1</td>\n",
        "            <td>6</td>\n",
        "            <td>7</td>\n",
        "            </tr>\n",
        "            <tr>\n",
        "            <td>10</td>\n",
        "            <td>3</td>\n",
        "            <td>4</td>\n",
        "            <td>7</td>\n",
        "            </tr>\n",
        "            <tr>\n",
        "            <td>8</td>\n",
        "            <td>3</td>\n",
        "            <td>2</td>\n",
        "            <td>5</td>\n",
        "            </tr>\n",
        "            <tr>\n",
        "            <td>7</td>\n",
        "            <td>3</td>\n",
        "            <td>1</td>\n",
        "            <td>4</td>\n",
        "            </tr>\n",
        "            <tr>\n",
        "            <td>6</td>\n",
        "            <td>3</td>\n",
        "            <td>0</td>\n",
        "            <td>3</td>\n",
        "            </tr>\n",
        "            <tr>\n",
        "            <td>5</td>\n",
        "            <td>3</td>\n",
        "            <td>-1</td>\n",
        "            <td>2</td>\n",
        "            </tr>\n",
        "            <tr>\n",
        "            <td>4</td>\n",
        "            <td>3</td>\n",
        "            <td>-2</td>\n",
        "            <td>1</td>\n",
        "            </tr>\n",
        "            <tr>\n",
        "            <td>3</td>\n",
        "            <td>3</td>\n",
        "            <td>-3</td>\n",
        "            <td>0</td>\n",
        "            </tr>\n",
        "            <tr>\n",
        "            <td>2</td>\n",
        "            <td>3</td>\n",
        "            <td>-4</td>\n",
        "            <td>-1</td>\n",
        "            </tr>\n",
        "            <tr>\n",
        "            <td>0</td>\n",
        "            <td>3</td>\n",
        "            <td>-6</td>\n",
        "            <td>-3</td>\n",
        "            </tr>\n",
        "            </table>"
       ],
       "metadata": {},
       "output_type": "pyout",
       "prompt_number": 47,
       "text": [
        "<IPython.core.display.HTML at 0x1099e38d0>"
       ]
      }
     ],
     "prompt_number": 47
    },
    {
     "cell_type": "markdown",
     "metadata": {},
     "source": [
      "A stock and its warrant tend to go up and down in price together.  If they both go up, the loss in the short position is covered by the gain in common.  If they both go down, the loss in the common is covered by the gain in the short position (up to a point)."
     ]
    },
    {
     "cell_type": "heading",
     "level": 2,
     "metadata": {},
     "source": [
      "Changing the Mix"
     ]
    },
    {
     "cell_type": "markdown",
     "metadata": {},
     "source": [
      "Let's look at the change in profit from changing the mix of warrants to common stock."
     ]
    },
    {
     "cell_type": "code",
     "collapsed": false,
     "input": [
      "from IPython.display import HTML\n",
      "\n",
      "\n",
      "warrant = 3\n",
      "exercise = 10\n",
      "common = 6\n",
      "\n",
      "def to_html():\n",
      "    html = \"\"\"\n",
      "        <table>\n",
      "        <tr>\n",
      "            <th>Common price</th>\n",
      "            <th>Total profit, 1 to 1</th>\n",
      "            <th>Total profit, 1.5 to 1</th>\n",
      "            <th>Total profit, 2 to 1</th>\n",
      "            </tr>\n",
      "            \"\"\"\n",
      "        \n",
      "    for x in [20, 12, 10, 8, 7, 6, 5, 4, 3, 2, 0]:            \n",
      "        html += \"\"\"<tr>\n",
      "            <td>{0}</td>\n",
      "            <td>{1}</td>\n",
      "            <td>{2}</td>\n",
      "            <td>{3}</td>\n",
      "            </tr>\n",
      "            \"\"\".format(x,\n",
      "                       warrant_net(warrant, exercise, x) + common_net(common, x),\n",
      "                       1.5 * warrant_net(warrant, exercise, x) + common_net(common, x),\n",
      "                       2 * warrant_net(warrant, exercise, x) + common_net(common, x))\n",
      "    \n",
      "    html += \"</table>\"\n",
      "    return html\n",
      "\n",
      "HTML(to_html())\n"
     ],
     "language": "python",
     "metadata": {},
     "outputs": [
      {
       "html": [
        "\n",
        "        <table>\n",
        "        <tr>\n",
        "            <th>Common price</th>\n",
        "            <th>Total profit, 1 to 1</th>\n",
        "            <th>Total profit, 1.5 to 1</th>\n",
        "            <th>Total profit, 2 to 1</th>\n",
        "            </tr>\n",
        "            <tr>\n",
        "            <td>20</td>\n",
        "            <td>7</td>\n",
        "            <td>3.5</td>\n",
        "            <td>0</td>\n",
        "            </tr>\n",
        "            <tr>\n",
        "            <td>12</td>\n",
        "            <td>7</td>\n",
        "            <td>7.5</td>\n",
        "            <td>8</td>\n",
        "            </tr>\n",
        "            <tr>\n",
        "            <td>10</td>\n",
        "            <td>7</td>\n",
        "            <td>8.5</td>\n",
        "            <td>10</td>\n",
        "            </tr>\n",
        "            <tr>\n",
        "            <td>8</td>\n",
        "            <td>5</td>\n",
        "            <td>6.5</td>\n",
        "            <td>8</td>\n",
        "            </tr>\n",
        "            <tr>\n",
        "            <td>7</td>\n",
        "            <td>4</td>\n",
        "            <td>5.5</td>\n",
        "            <td>7</td>\n",
        "            </tr>\n",
        "            <tr>\n",
        "            <td>6</td>\n",
        "            <td>3</td>\n",
        "            <td>4.5</td>\n",
        "            <td>6</td>\n",
        "            </tr>\n",
        "            <tr>\n",
        "            <td>5</td>\n",
        "            <td>2</td>\n",
        "            <td>3.5</td>\n",
        "            <td>5</td>\n",
        "            </tr>\n",
        "            <tr>\n",
        "            <td>4</td>\n",
        "            <td>1</td>\n",
        "            <td>2.5</td>\n",
        "            <td>4</td>\n",
        "            </tr>\n",
        "            <tr>\n",
        "            <td>3</td>\n",
        "            <td>0</td>\n",
        "            <td>1.5</td>\n",
        "            <td>3</td>\n",
        "            </tr>\n",
        "            <tr>\n",
        "            <td>2</td>\n",
        "            <td>-1</td>\n",
        "            <td>0.5</td>\n",
        "            <td>2</td>\n",
        "            </tr>\n",
        "            <tr>\n",
        "            <td>0</td>\n",
        "            <td>-3</td>\n",
        "            <td>-1.5</td>\n",
        "            <td>0</td>\n",
        "            </tr>\n",
        "            </table>"
       ],
       "metadata": {},
       "output_type": "pyout",
       "prompt_number": 46,
       "text": [
        "<IPython.core.display.HTML at 0x1091d30d0>"
       ]
      }
     ],
     "prompt_number": 46
    },
    {
     "cell_type": "markdown",
     "metadata": {},
     "source": [
      "Now, instead of overall profit, calculate the percentage profit given our intial investment.\n",
      "\n",
      "The initial investment is calculated from the amount needed for the warrants plus a 70% margin."
     ]
    },
    {
     "cell_type": "code",
     "collapsed": false,
     "input": [
      "def investment(num_warrants, warrant_price, num_common, common_price):\n",
      "    return num_warrants * warrant_price + .7 * num_common * common_price\n"
     ],
     "language": "python",
     "metadata": {},
     "outputs": [],
     "prompt_number": 18
    },
    {
     "cell_type": "code",
     "collapsed": false,
     "input": [
      "for num_warrants, num_common in [(100, 100), (300, 200), (200, 100)]:\n",
      "    print \"{0} warrants {1} common : investment = {2}\".format(num_warrants, num_common,\n",
      "                                                              investment(num_warrants, 3, num_common, 6))\n"
     ],
     "language": "python",
     "metadata": {},
     "outputs": [
      {
       "output_type": "stream",
       "stream": "stdout",
       "text": [
        "100 warrants 100 common : investment = 720.0\n",
        "300 warrants 200 common : investment = 1740.0\n",
        "200 warrants 100 common : investment = 1020.0\n"
       ]
      }
     ],
     "prompt_number": 40
    },
    {
     "cell_type": "markdown",
     "metadata": {},
     "source": [
      "This is misleading due to the differing number of shares that were purchased. To make the comparisons easier, we look at the percentage gained or lost over the initial investment.\n",
      "\n",
      "For comparison, we assume that we get most of our gains from the warrants."
     ]
    },
    {
     "cell_type": "code",
     "collapsed": false,
     "input": [
      "for num_warrants, num_common in [(100, 100), (300, 200), (200, 100)]:\n",
      "    invested = investment(num_warrants, 3, num_common, 6)\n",
      "    print \"{0} warrants {1} common : profit = {2} investment = {3}  %age profit = {4:.0%}  per annum %age = {5:.0%}\".format(\n",
      "        num_warrants, num_common, num_warrants*3, invested, num_warrants*3/invested,\n",
      "        num_warrants*3/(invested*1.5))\n",
      "    "
     ],
     "language": "python",
     "metadata": {},
     "outputs": [
      {
       "output_type": "stream",
       "stream": "stdout",
       "text": [
        "100 warrants 100 common : profit = 300 investment = 720.0  %age profit = 42%  per annum %age = 28%\n",
        "300 warrants 200 common : profit = 900 investment = 1740.0  %age profit = 52%  per annum %age = 34%\n",
        "200 warrants 100 common : profit = 600 investment = 1020.0  %age profit = 59%  per annum %age = 39%\n"
       ]
      }
     ],
     "prompt_number": 45
    },
    {
     "cell_type": "code",
     "collapsed": false,
     "input": [],
     "language": "python",
     "metadata": {},
     "outputs": []
    }
   ],
   "metadata": {}
  }
 ]
}