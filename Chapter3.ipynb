{
 "metadata": {
  "name": "",
  "signature": "sha256:d144ed77888c8f11c929a7d8a17546fedeb5e650609b17755d78becb61a79b46"
 },
 "nbformat": 3,
 "nbformat_minor": 0,
 "worksheets": [
  {
   "cells": [
    {
     "cell_type": "heading",
     "level": 1,
     "metadata": {},
     "source": [
      "Short Selling: Profits in Bad Times"
     ]
    },
    {
     "cell_type": "heading",
     "level": 2,
     "metadata": {},
     "source": [
      "The Basics of Short Selling"
     ]
    },
    {
     "cell_type": "markdown",
     "metadata": {},
     "source": [
      "**(1)** Sell at the current price a security not owned\n",
      "\n",
      "As an example, tell our broker to short 100 shares of American Tobacco at 47."
     ]
    },
    {
     "cell_type": "markdown",
     "metadata": {},
     "source": [
      "**(2)** Borrow the security, leaving the proceeds of the sale with the lender as collateral.\n",
      "    \n",
      "The broker will borrow 100 shares from a lender and sell it at 47.  The $4,700 will be credited in our account as collateral.  If the price of the borrowed stock rises, the lender demands more collateral.  If it drops, he returns the excess collateral.  Ths is called **marking to the market**.\n"
     ]
    },
    {
     "cell_type": "markdown",
     "metadata": {},
     "source": [
      "**(3)** Buy the security in the market at a later time.\n",
      "\n",
      "Sometime later, tell the brker to cover the 100 shares at a price of 30.  The broker buys 100 shares at 30 in the market."
     ]
    },
    {
     "cell_type": "markdown",
     "metadata": {},
     "source": [
      "**(4)** Return the newly purchased certificate to the lender, who returns the original proceeds, or collateral.\n",
      "\n",
      "The broker returns the certificates and pays for the purchase with $3,000 from the returned collateral.  The remaining 1,700 is profit."
     ]
    },
    {
     "cell_type": "heading",
     "level": 2,
     "metadata": {},
     "source": [
      "Up-tick Rule"
     ]
    },
    {
     "cell_type": "markdown",
     "metadata": {},
     "source": [
      "There may be rules which limit when a short sale can be made.  In certain exchanges, short sales can only be made on an up-tick, that is when the last preceeding price was upward."
     ]
    },
    {
     "cell_type": "code",
     "collapsed": false,
     "input": [],
     "language": "python",
     "metadata": {},
     "outputs": []
    }
   ],
   "metadata": {}
  }
 ]
}