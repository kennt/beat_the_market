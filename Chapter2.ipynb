{
 "metadata": {
  "name": "",
  "signature": "sha256:832c1264b494b31c65bbdf6573e92733e01d75ebc0109eabf2a9091b3cea6e61"
 },
 "nbformat": 3,
 "nbformat_minor": 0,
 "worksheets": [
  {
   "cells": [
    {
     "cell_type": "heading",
     "level": 1,
     "metadata": {},
     "source": [
      "Chapter 2: Warrants"
     ]
    },
    {
     "cell_type": "heading",
     "level": 2,
     "metadata": {},
     "source": [
      "What is a warrant?"
     ]
    },
    {
     "cell_type": "markdown",
     "metadata": {},
     "source": [
      "A warrant is an option to buy common stock, under certain conditions\n",
      "it may be converted to common stock, at a specified price."
     ]
    },
    {
     "cell_type": "markdown",
     "metadata": {},
     "source": [
      "    How is a warrant different from a call option?\n",
      "    A warrant is issued by a specific company and may be converted \n",
      "    into common stock thereby diluting the common stock.  \n",
      "    A call option is a deriviative on an existing share of stock.\n",
      "    Exercising a call option does not involve issuing new stock."
     ]
    },
    {
     "cell_type": "markdown",
     "metadata": {},
     "source": [
      " (http://www.investopedia.com/articles/investing/071513/warrants-and-call-options.asp)"
     ]
    },
    {
     "cell_type": "heading",
     "level": 2,
     "metadata": {},
     "source": [
      "\n",
      "Some definitions"
     ]
    },
    {
     "cell_type": "markdown",
     "metadata": {},
     "source": [
      "The **expiration date** is the last day the warrant may be converted\n",
      "to common stock.  After this the warrant has no value."
     ]
    },
    {
     "cell_type": "markdown",
     "metadata": {},
     "source": [
      "The **exercise price** is the price the holder of the warrant is to pay to purchase one share of common stock."
     ]
    },
    {
     "cell_type": "markdown",
     "metadata": {},
     "source": [
      "A **perpetual warrant** is a warrant with no expiration date. "
     ]
    },
    {
     "cell_type": "heading",
     "level": 3,
     "metadata": {},
     "source": [
      "\n",
      "Tri-Continental Example"
     ]
    },
    {
     "cell_type": "code",
     "collapsed": false,
     "input": [
      "warrant_1942 = .03\n",
      "warrant_1946 = 5 + (5.0/8)"
     ],
     "language": "python",
     "metadata": {},
     "outputs": [],
     "prompt_number": 9
    },
    {
     "cell_type": "code",
     "collapsed": false,
     "input": [
      "print \"$1,000 invested in warrants in 1942, by 1946 would have returned $\" + \"{:,.2f}\".format(1000* warrant_1946 / warrant_1942)"
     ],
     "language": "python",
     "metadata": {},
     "outputs": [
      {
       "output_type": "stream",
       "stream": "stdout",
       "text": [
        "$1,000 invested in 1942 would have returned $187,500.00\n"
       ]
      }
     ],
     "prompt_number": 10
    },
    {
     "cell_type": "code",
     "collapsed": false,
     "input": [
      "warrant_1965 = 47 + (3.0/8)\n",
      "stock_1942 = 3.0/8\n",
      "stock_1965 = 27.5\n",
      "\n",
      "print \"$1,000 invested in warrants in 1942 would be worth ${0:,.2f} by 1965\".format(1000* warrant_1965 / warrant_1942)\n",
      "print \"$1,000 invested in stock in 1942 would be worth ${0:,.2f} by 1965\".format(1000* stock_1965 / stock_1942)"
     ],
     "language": "python",
     "metadata": {},
     "outputs": [
      {
       "output_type": "stream",
       "stream": "stdout",
       "text": [
        "$1,000 invested in warrants in 1942 would be worth $1,579,166.67 by 1965\n",
        "$1,000 invested in stock in 1942 would be worth $73,333.33 by 1965\n"
       ]
      }
     ],
     "prompt_number": 20
    },
    {
     "cell_type": "code",
     "collapsed": false,
     "input": [
      "warrant_leverage = (warrant_1965/warrant_1942) / (stock_1965/stock_1942)\n",
      "print \"warrant leverage multplier is {0:,.2f}\".format(warrant_leverage)"
     ],
     "language": "python",
     "metadata": {},
     "outputs": [
      {
       "output_type": "stream",
       "stream": "stdout",
       "text": [
        "warrant leverage multplier is 21.53\n"
       ]
      }
     ],
     "prompt_number": 17
    },
    {
     "cell_type": "markdown",
     "metadata": {},
     "source": [
      "**Warrants have leverage relative to common stock because they rise and fall faster.**"
     ]
    },
    {
     "cell_type": "markdown",
     "metadata": {},
     "source": [
      "**This makes warrants attractive to investors.  However, they can also move\n",
      "downards very quickly.**"
     ]
    },
    {
     "cell_type": "heading",
     "level": 3,
     "metadata": {},
     "source": [
      "\n",
      "Universal Pictures Example"
     ]
    },
    {
     "cell_type": "code",
     "collapsed": false,
     "input": [
      "warrant_1945 = 39\n",
      "warrant_1947 = 1.5\n",
      "\n",
      "print \"$1,000 invested in warrants in 1945 would be worth ${0:,.2f} by 1947\".format(1000* warrant_1947 / warrant_1945)\n"
     ],
     "language": "python",
     "metadata": {},
     "outputs": [
      {
       "output_type": "stream",
       "stream": "stdout",
       "text": [
        "$1,000 invested in warrants in 1945 would be worth $38.46 by 1947\n"
       ]
      }
     ],
     "prompt_number": 19
    },
    {
     "cell_type": "heading",
     "level": 2,
     "metadata": {},
     "source": [
      "\n",
      "The Warrant-Stock Diagram"
     ]
    },
    {
     "cell_type": "code",
     "collapsed": false,
     "input": [
      "import pandas as pd\n",
      "import matplotlib.pyplot as plt\n",
      "import numpy as np\n",
      "\n",
      "sperry_rand = pd.read_csv('Chapter2_sperry_rand_1960.csv')"
     ],
     "language": "python",
     "metadata": {},
     "outputs": [],
     "prompt_number": 2
    },
    {
     "cell_type": "markdown",
     "metadata": {},
     "source": [
      "This is a basic graph showing the movements of the warrants and the common stock prices.  However, it adds little extra information."
     ]
    },
    {
     "cell_type": "code",
     "collapsed": false,
     "input": [
      "months = sperry_rand['month']\n",
      "common_mid = sperry_rand['common_close']\n",
      "common_error = [common_mid - sperry_rand['common_low'], \n",
      "                sperry_rand['common_high']-common_mid]\n",
      "\n",
      "warrant_mid = sperry_rand['warrant_close']\n",
      "warrant_error = [warrant_mid - sperry_rand['warrant_low'], \n",
      "                 sperry_rand['warrant_high'] - warrant_mid]\n",
      "fig = plt.figure(figsize=[8,5])\n",
      "axes = fig.add_axes([0.1, 0.1, 0.8, 0.8])\n",
      "axes.set_title('price vs month')\n",
      "axes.set_xlabel('month')\n",
      "axes.set_xlim([0,13])\n",
      "axes.set_ylabel('price')\n",
      "axes.set_ylim([0, 30])\n",
      "\n",
      "plt.errorbar(months, common_mid, yerr=common_error, label='common')\n",
      "plt.errorbar(months, warrant_mid, yerr=warrant_error, label='warrant')\n",
      "\n",
      "axes.legend()\n"
     ],
     "language": "python",
     "metadata": {},
     "outputs": [
      {
       "metadata": {},
       "output_type": "pyout",
       "prompt_number": 23,
       "text": [
        "<matplotlib.legend.Legend at 0x10b7ebfd0>"
       ]
      },
      {
       "metadata": {},
       "output_type": "display_data",
       "png": "[encoded data removed]",
       "text": [
        "<matplotlib.figure.Figure at 0x10b757890>"
       ]
      }
     ],
     "prompt_number": 23
    },
    {
     "cell_type": "markdown",
     "metadata": {},
     "source": [
      "A more useful graph would be to plot the warrant price vs. the common stock price and see how they move together."
     ]
    },
    {
     "cell_type": "code",
     "collapsed": false,
     "input": [
      "fig = plt.figure(figsize=[8,5])\n",
      "axes = fig.add_axes([0.1, 0.1, 0.8, 0.8])\n",
      "axes.set_title('Warrant-Stock Graph')\n",
      "axes.set_xlabel('stock price')\n",
      "axes.set_xlim([15,28])\n",
      "axes.set_ylabel('warrant price')\n",
      "axes.set_ylim([6, 14])\n",
      "\n",
      "plt.scatter(common_mid, warrant_mid)\n",
      "for label, x, y in zip(months, common_mid, warrant_mid):\n",
      "    plt.annotate(label,\n",
      "                 xy = (x,y), xytext=(-12,3),\n",
      "                 textcoords='offset points')\n"
     ],
     "language": "python",
     "metadata": {},
     "outputs": [
      {
       "metadata": {},
       "output_type": "display_data",
       "png": "[encoded data removed]",
       "text": [
        "<matplotlib.figure.Figure at 0x10bbdced0>"
       ]
      }
     ],
     "prompt_number": 40
    },
    {
     "cell_type": "markdown",
     "metadata": {},
     "source": [
      "Note that the prices move in a correlated manner, either in a NE (both prices rise) or in a SW (both prices fall) direction."
     ]
    },
    {
     "cell_type": "heading",
     "level": 2,
     "metadata": {},
     "source": [
      "The Two Basic Rules Relating Warrant Prices to Stock Prices"
     ]
    },
    {
     "cell_type": "heading",
     "level": 3,
     "metadata": {},
     "source": [
      "Rule 1: Warrant Price < Stock Price"
     ]
    },
    {
     "cell_type": "markdown",
     "metadata": {},
     "source": [
      "The rationale for this is pretty simple, the associated common stock may receive a cash dividend.  The warrant will never receive a dividend."
     ]
    },
    {
     "cell_type": "heading",
     "level": 3,
     "metadata": {},
     "source": [
      "Rule 2: Warrant Price + Exercise Price <= Stock Price"
     ]
    },
    {
     "cell_type": "markdown",
     "metadata": {},
     "source": [
      "If we buy a warrant and exercise it, we will get a share of the common stock.  If this was not true, with the warrant price + exercise price being greater than the stock price, we would buy the warrants, convert to common stock, and sell the stock for the profit. "
     ]
    },
    {
     "cell_type": "markdown",
     "metadata": {},
     "source": [
      "This is **arbitrage**, the \"simultaneous purchase and sale of the same or equivalent purchase and sale of the same or equivalent securities, commodities, or foreign exchange in different markets to profit from unequal prices.\""
     ]
    },
    {
     "cell_type": "heading",
     "level": 2,
     "metadata": {},
     "source": [
      "Adjusted Warrants and Adjusted Exercise Price"
     ]
    },
    {
     "cell_type": "markdown",
     "metadata": {},
     "source": [
      "If the amount of outstanding stock is changed (either by stock splits or stock dividends), then the terms of the warrant may be adjusted (if there is an **anti-dilution provision** in the terms of the warrant)."
     ]
    },
    {
     "cell_type": "markdown",
     "metadata": {},
     "source": [
      "For example, in 1958 a Sperry warrant could buy 1.00 shares at $25 per share."
     ]
    },
    {
     "cell_type": "markdown",
     "metadata": {},
     "source": [
      "On March 30, 1961, shareholders received a 2% stock dividend.  Thus each share of Sperry was now worth 1.02 old shares.  Due to the anti-dilution provisions of the warrant, each warrant could now purchase 1.02 shares at the same price, $25."
     ]
    },
    {
     "cell_type": "markdown",
     "metadata": {},
     "source": [
      "There was another 2% stock dividend on September 28, 1961.  The warrant was readjusted to 1.02 * 1.02 = 1.0404 which was rounded to 1.04 shares for each warrant."
     ]
    },
    {
     "cell_type": "markdown",
     "metadata": {},
     "source": [
      "On June 28, 1962 there was a 4% stock dividend, so each warrant was now worth 1.04 * 1.04 = 1.0816 which was rounded to 1.08 shares per warrant."
     ]
    },
    {
     "cell_type": "markdown",
     "metadata": {},
     "source": [
      "On September 16, 1963 the Exercise Price was raised to $28, so each warrant now bought 1.08 shares at 28."
     ]
    },
    {
     "cell_type": "markdown",
     "metadata": {},
     "source": [
      "If a warrant can be converted into X common stock shares, then the warrant is equal to X **Adjusted Warrants**.  In the example above, each warrant is equal to 1.08 adjusted warrants.  Each adjusted warrant can be converted into exactly one common share."
     ]
    },
    {
     "cell_type": "markdown",
     "metadata": {},
     "source": [
      "The **Adjusted Exercise Price** is the price paid per common share upon exercise.  Thus in our example above, the adjusted exercise price is 28/1.08 = $25.93. "
     ]
    },
    {
     "cell_type": "markdown",
     "metadata": {},
     "source": [
      "*The rules apply as stated to all warrants, provided we use the adjusted warrant price and the adjusted exercise price in place of the warrant price and the exercise price.*"
     ]
    },
    {
     "cell_type": "markdown",
     "metadata": {},
     "source": [
      "The difference between the price of buying a warrant/exercising the warrant and buying a share is known as the **premium**. \n",
      "\n",
      "Premium = Adjusted Warrant Price + Adjusted Exercise Price - Share Price"
     ]
    },
    {
     "cell_type": "heading",
     "level": 2,
     "metadata": {},
     "source": [
      "The Warrant-Stock Law: Predictability in the Stock Market"
     ]
    },
    {
     "cell_type": "markdown",
     "metadata": {},
     "source": [
      "Some central ideas:\n",
      "    1. Warrants have incredible potential for profit or disaster\n",
      "    2. The warrant-stock diagram is the revealing way to picture the joint price action of warrant and stock.\n",
      "    3. The price of adjusted warrants and their associated adjusted exercise price should be used in the pictures and calculations, instead of the prices for actual warrants.\n",
      "    4. The two rules for relating warrant prices and stock prices should hold.\n",
      "    5. The price of a stock and its warrant generally move up and down together, but at different rates."
     ]
    },
    {
     "cell_type": "code",
     "collapsed": false,
     "input": [],
     "language": "python",
     "metadata": {},
     "outputs": []
    }
   ],
   "metadata": {}
  }
 ]
}